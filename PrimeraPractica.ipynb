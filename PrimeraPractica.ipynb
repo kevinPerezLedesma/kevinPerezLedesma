{
  "nbformat": 4,
  "nbformat_minor": 0,
  "metadata": {
    "colab": {
      "name": "PrimeraPractica.ipynb",
      "provenance": [],
      "collapsed_sections": [],
      "authorship_tag": "ABX9TyMdHt3eZ4Yw58nDXq3ZLBaG",
      "include_colab_link": true
    },
    "kernelspec": {
      "name": "python3",
      "display_name": "Python 3"
    },
    "language_info": {
      "name": "python"
    }
  },
  "cells": [
    {
      "cell_type": "markdown",
      "metadata": {
        "id": "view-in-github",
        "colab_type": "text"
      },
      "source": [
        "<a href=\"https://colab.research.google.com/github/kevinPerezLedesma/kevinPerezLedesma/blob/main/PrimeraPractica.ipynb\" target=\"_parent\"><img src=\"https://colab.research.google.com/assets/colab-badge.svg\" alt=\"Open In Colab\"/></a>"
      ]
    },
    {
      "cell_type": "markdown",
      "metadata": {
        "id": "mtZB2ghhITBS"
      },
      "source": [
        "** PRIMERA PRACTICA CALIFICADA **"
      ]
    },
    {
      "cell_type": "code",
      "metadata": {
        "id": "8kaNtRIjIYhj"
      },
      "source": [
        "#1 Busque un personaje publico de su preferencia en wikipedia. Genere una variable con la url de la página\n",
        "\n",
        "#RESPUESTA:\n",
        "URL =\"https://es.wikipedia.org/wiki/Michael_Jackson\""
      ],
      "execution_count": null,
      "outputs": []
    },
    {
      "cell_type": "code",
      "metadata": {
        "id": "lJohjcaVJn2P"
      },
      "source": [
        "#2Programar un diccionario de la manera más simple, teniendo distintos tipos de datos.(Minimo 20 campos).\n",
        "\n",
        "#RESPUESTA\n",
        "wikipedia={\"nombre de nacimiento\":\"\tMichael Joseph Jackson\", \n",
        "           \"Otros Nombre\":\"Michael Joe Jackson\",\n",
        "           \"Nacimiento\":\"\t29 de agosto de 1958\",\n",
        "           \"Lugar de nacimiento\":\"\t29 de agosto de 1958\",\n",
        "           \"Fallecimiento\":\"25 de junio de 2009 (50 años)\",\n",
        "           \"Lugar de facimiento\":\"Los Ángeles, California\",\n",
        "           \"Causa de fallecimiento\":\"Sobredosis de Propofol\",\n",
        "           \"Sepultura\":\"Forest Lawn Memorial Park\",\n",
        "           \"Residencia\":\"Rancho Neverland\",\n",
        "           \"Nacionalidad\":\"\tEstadounidense\",\n",
        "           \"Lengua maternna\":\t\"Inglés estadounidense\",\n",
        "           \"Religion\":\"\tTestigos de Jehová\",\n",
        "           \"Familia\":\"\tFamilia Jackson\",\n",
        "           \"Padres\":\"Joseph Jackson,Katherine Jackson\",\n",
        "           \"Conyuge\":\"Lisa Marie Presley (matr. 1994; div. 1996)\",\n",
        "           \"Cantidad_Hijos\":\"3\",\n",
        "           \"Educacion\":\"Montclair College Preparatory School\",\n",
        "           \"Ocupacion\":\"Cantantecompositorbailarínactorproductor discográfico\",\n",
        "           \"Años activo\":\"\t1964-2009\",\n",
        "           \"Seudónimo\":\"\tMichael Joe Jackson\",\n",
        "           \"Instrumento\": \"Voz\",\n",
        "           \"Tipo de voz\":\"Tenor\",\n",
        "           \"sitio web\":\"www.michaeljackson.com\"}"
      ],
      "execution_count": null,
      "outputs": []
    },
    {
      "cell_type": "code",
      "metadata": {
        "id": "Ip0ialusISMX",
        "colab": {
          "base_uri": "https://localhost:8080/"
        },
        "outputId": "5ed89639-deee-42fc-c970-ed0a0b326409"
      },
      "source": [
        "#3 Programar luego un diccionario usando donde se pueda otras estructuras (listas, tuplas, diccionarios).\n",
        "Colores_gustos=[\"Azul\",\"Celeste\",\"Negro\",\"Rojo\"]\n",
        "hijos=( \"Paris Jackson\",\"Michael Joseph Jackson\",\"Prince Michael Jackson II\")\n",
        "wikipedia={\"nombre de nacimiento\":\"\tMichael Joseph Jackson\", \n",
        "           \"Otros Nombre\":\"Michael Joe Jackson\",\n",
        "           \"Nacimiento\":\"\t29 de agosto de 1958\",\n",
        "           \"Lugar de nacimiento\":\"\t29 de agosto de 1958\",\n",
        "           \"Fallecimiento\":\"25 de junio de 2009 (50 años)\",\n",
        "           \"Lugar de facimiento\":\"Los Ángeles, California\",\n",
        "           \"Causa de fallecimiento\":\"Sobredosis de Propofol\",\n",
        "           \"Sepultura\":\"Forest Lawn Memorial Park\",\n",
        "           \"Residencia\":\"Rancho Neverland\",\n",
        "           \"Nacionalidad\":\"\tEstadounidense\",\n",
        "           \"Hijos\":hijos,\n",
        "           \"Religion\":\"\tTestigos de Jehová\",\n",
        "           \"Familia\":\"\tFamilia Jackson\",\n",
        "           \"Padres\":\"Joseph Jackson,Katherine Jackson\",\n",
        "           \"Conyuge\":\"Lisa Marie Presley (matr. 1994; div. 1996)\",\n",
        "           \"Cantidad_Hijos\":\"3\",\n",
        "           \"Educacion\":\"Montclair College Preparatory School\",\n",
        "           \"Coloresgustos\":Colores_gustos,\n",
        "           \"Ocupacion\":\"Cantantecompositorbailarínactorproductor discográfico\"}\n",
        "\n",
        "wikipedia\n"
      ],
      "execution_count": 9,
      "outputs": [
        {
          "output_type": "execute_result",
          "data": {
            "text/plain": [
              "{'Cantidad_Hijos': '3',\n",
              " 'Causa de fallecimiento': 'Sobredosis de Propofol',\n",
              " 'Coloresgustos': ['Azul', 'Celeste', 'Negro', 'Rojo'],\n",
              " 'Conyuge': 'Lisa Marie Presley (matr. 1994; div. 1996)',\n",
              " 'Educacion': 'Montclair College Preparatory School',\n",
              " 'Fallecimiento': '25 de junio de 2009 (50 años)',\n",
              " 'Familia': '\\tFamilia Jackson',\n",
              " 'Hijos': ('Paris Jackson',\n",
              "  'Michael Joseph Jackson',\n",
              "  'Prince Michael Jackson II'),\n",
              " 'Lugar de facimiento': 'Los Ángeles, California',\n",
              " 'Lugar de nacimiento': '\\t29 de agosto de 1958',\n",
              " 'Nacimiento': '\\t29 de agosto de 1958',\n",
              " 'Nacionalidad': '\\tEstadounidense',\n",
              " 'Ocupacion': 'Cantantecompositorbailarínactorproductor discográfico',\n",
              " 'Otros Nombre': 'Michael Joe Jackson',\n",
              " 'Padres': 'Joseph Jackson,Katherine Jackson',\n",
              " 'Religion': '\\tTestigos de Jehová',\n",
              " 'Residencia': 'Rancho Neverland',\n",
              " 'Sepultura': 'Forest Lawn Memorial Park',\n",
              " 'nombre de nacimiento': '\\tMichael Joseph Jackson'}"
            ]
          },
          "metadata": {
            "tags": []
          },
          "execution_count": 9
        }
      ]
    }
  ]
}