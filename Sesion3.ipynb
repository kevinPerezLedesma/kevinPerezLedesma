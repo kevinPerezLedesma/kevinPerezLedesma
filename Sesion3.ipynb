{
  "nbformat": 4,
  "nbformat_minor": 0,
  "metadata": {
    "colab": {
      "name": "Sesion3.ipynb",
      "provenance": [],
      "collapsed_sections": [],
      "authorship_tag": "ABX9TyO2FKKpr1lBC1Ve6RZYgthr",
      "include_colab_link": true
    },
    "kernelspec": {
      "name": "python3",
      "display_name": "Python 3"
    },
    "language_info": {
      "name": "python"
    }
  },
  "cells": [
    {
      "cell_type": "markdown",
      "metadata": {
        "id": "view-in-github",
        "colab_type": "text"
      },
      "source": [
        "<a href=\"https://colab.research.google.com/github/kevinPerezLedesma/kevinPerezLedesma/blob/main/Sesion3.ipynb\" target=\"_parent\"><img src=\"https://colab.research.google.com/assets/colab-badge.svg\" alt=\"Open In Colab\"/></a>"
      ]
    },
    {
      "cell_type": "markdown",
      "metadata": {
        "id": "PRHPDHUdk4Wm"
      },
      "source": [
        "**IF, ELSE y ELIF**"
      ]
    },
    {
      "cell_type": "code",
      "metadata": {
        "colab": {
          "base_uri": "https://localhost:8080/"
        },
        "id": "GXK6SKT3koJt",
        "outputId": "9b9e4c6a-6c5c-4604-914d-ac0a45a58c6c"
      },
      "source": [
        "\n",
        "#IF-ELSE\n",
        "x = 4\n",
        "y = 0\n",
        "if x == 4 and y<2:\n",
        "    y = 5\n",
        "    print(\"se ejecuto en el if\")\n",
        "else:\n",
        "    y = 2\n",
        "    print(\"se ejecuto en el Else\")"
      ],
      "execution_count": null,
      "outputs": [
        {
          "output_type": "stream",
          "text": [
            "se ejecuto en el if\n"
          ],
          "name": "stdout"
        }
      ]
    },
    {
      "cell_type": "code",
      "metadata": {
        "colab": {
          "base_uri": "https://localhost:8080/"
        },
        "id": "mvxCqtbjkrik",
        "outputId": "feabbd4b-e0cf-470a-887c-a5cf712499fb"
      },
      "source": [
        "#IF-ELIF\n",
        "x = 4\n",
        "y = 0\n",
        "\n",
        "if x== 5:\n",
        "    y = 1\n",
        "elif x == 4:\n",
        "    y = 2\n",
        "elif x == 6:\n",
        "    y = 3\n",
        "else:\n",
        "    y = 5\n",
        "\n",
        "print(\"El valor de Y  es:\",y)"
      ],
      "execution_count": null,
      "outputs": [
        {
          "output_type": "stream",
          "text": [
            "El valor de Y  es: 2\n"
          ],
          "name": "stdout"
        }
      ]
    },
    {
      "cell_type": "code",
      "metadata": {
        "colab": {
          "base_uri": "https://localhost:8080/"
        },
        "id": "ezWwJD9_q5U_",
        "outputId": "8967b3c0-290d-4886-ce1b-a654b924b4b3"
      },
      "source": [
        "x = 2\n",
        "y = 6\n",
        "\n",
        "if x<y:print(\"x es mayor que y\")"
      ],
      "execution_count": null,
      "outputs": [
        {
          "output_type": "stream",
          "text": [
            "x es mayor que y\n"
          ],
          "name": "stdout"
        }
      ]
    },
    {
      "cell_type": "markdown",
      "metadata": {
        "id": "Cpdtm5kFrZZU"
      },
      "source": [
        "**For y While**"
      ]
    },
    {
      "cell_type": "code",
      "metadata": {
        "colab": {
          "base_uri": "https://localhost:8080/"
        },
        "id": "zUmn1j6HrZFN",
        "outputId": "33c6189d-2db6-4e33-ec21-a0a530c23092"
      },
      "source": [
        "lista=[10,523,643,1212,1451,1444]\n",
        "suma = 0\n",
        "for variable in lista:  #DICE QUE VARIABLE TOMARA EL VALOR DE 10 DESPUES 523 ...\n",
        "    suma = suma + variable \n",
        "    print(\"La iteracion de la suma es\",suma)\n",
        "\n",
        "print(\"La suma total es:\",suma)"
      ],
      "execution_count": null,
      "outputs": [
        {
          "output_type": "stream",
          "text": [
            "La iteracion de la suma es 10\n",
            "La iteracion de la suma es 533\n",
            "La iteracion de la suma es 1176\n",
            "La iteracion de la suma es 2388\n",
            "La iteracion de la suma es 3839\n",
            "La iteracion de la suma es 5283\n",
            "La suma total es: 5283\n"
          ],
          "name": "stdout"
        }
      ]
    },
    {
      "cell_type": "code",
      "metadata": {
        "colab": {
          "base_uri": "https://localhost:8080/"
        },
        "id": "9nIz1ryordbK",
        "outputId": "455780c7-8ed6-4130-d2f2-0e8e1aed0fd2"
      },
      "source": [
        "x=0\n",
        "y=3\n",
        "while x<y:\n",
        "      print(x)\n",
        "      x += 1\n",
        "      print(\"nuevo valor de x:\",x)"
      ],
      "execution_count": null,
      "outputs": [
        {
          "output_type": "stream",
          "text": [
            "0\n",
            "nuevo valor de x: 1\n",
            "1\n",
            "nuevo valor de x: 2\n",
            "2\n",
            "nuevo valor de x: 3\n"
          ],
          "name": "stdout"
        }
      ]
    },
    {
      "cell_type": "code",
      "metadata": {
        "colab": {
          "base_uri": "https://localhost:8080/"
        },
        "id": "sn29-Nl2zJgM",
        "outputId": "df3b4a8e-50d9-4c7c-8890-089ceb5b7318"
      },
      "source": [
        "x=0\n",
        "y=150\n",
        "while x<y:\n",
        "      print(x)\n",
        "      x += 1\n",
        "      if len(str(x))==3:\n",
        "          print(\"Error la cadena excede el valor:\",len(str(x)),x) #len es para saber el numero de caracteres en cadena\n",
        "          break\n",
        "      else:\n",
        "         print(\"nuevo valor de x:\",x)"
      ],
      "execution_count": null,
      "outputs": [
        {
          "output_type": "stream",
          "text": [
            "0\n",
            "nuevo valor de x: 1\n",
            "1\n",
            "nuevo valor de x: 2\n",
            "2\n",
            "nuevo valor de x: 3\n",
            "3\n",
            "nuevo valor de x: 4\n",
            "4\n",
            "nuevo valor de x: 5\n",
            "5\n",
            "nuevo valor de x: 6\n",
            "6\n",
            "nuevo valor de x: 7\n",
            "7\n",
            "nuevo valor de x: 8\n",
            "8\n",
            "nuevo valor de x: 9\n",
            "9\n",
            "nuevo valor de x: 10\n",
            "10\n",
            "nuevo valor de x: 11\n",
            "11\n",
            "nuevo valor de x: 12\n",
            "12\n",
            "nuevo valor de x: 13\n",
            "13\n",
            "nuevo valor de x: 14\n",
            "14\n",
            "nuevo valor de x: 15\n",
            "15\n",
            "nuevo valor de x: 16\n",
            "16\n",
            "nuevo valor de x: 17\n",
            "17\n",
            "nuevo valor de x: 18\n",
            "18\n",
            "nuevo valor de x: 19\n",
            "19\n",
            "nuevo valor de x: 20\n",
            "20\n",
            "nuevo valor de x: 21\n",
            "21\n",
            "nuevo valor de x: 22\n",
            "22\n",
            "nuevo valor de x: 23\n",
            "23\n",
            "nuevo valor de x: 24\n",
            "24\n",
            "nuevo valor de x: 25\n",
            "25\n",
            "nuevo valor de x: 26\n",
            "26\n",
            "nuevo valor de x: 27\n",
            "27\n",
            "nuevo valor de x: 28\n",
            "28\n",
            "nuevo valor de x: 29\n",
            "29\n",
            "nuevo valor de x: 30\n",
            "30\n",
            "nuevo valor de x: 31\n",
            "31\n",
            "nuevo valor de x: 32\n",
            "32\n",
            "nuevo valor de x: 33\n",
            "33\n",
            "nuevo valor de x: 34\n",
            "34\n",
            "nuevo valor de x: 35\n",
            "35\n",
            "nuevo valor de x: 36\n",
            "36\n",
            "nuevo valor de x: 37\n",
            "37\n",
            "nuevo valor de x: 38\n",
            "38\n",
            "nuevo valor de x: 39\n",
            "39\n",
            "nuevo valor de x: 40\n",
            "40\n",
            "nuevo valor de x: 41\n",
            "41\n",
            "nuevo valor de x: 42\n",
            "42\n",
            "nuevo valor de x: 43\n",
            "43\n",
            "nuevo valor de x: 44\n",
            "44\n",
            "nuevo valor de x: 45\n",
            "45\n",
            "nuevo valor de x: 46\n",
            "46\n",
            "nuevo valor de x: 47\n",
            "47\n",
            "nuevo valor de x: 48\n",
            "48\n",
            "nuevo valor de x: 49\n",
            "49\n",
            "nuevo valor de x: 50\n",
            "50\n",
            "nuevo valor de x: 51\n",
            "51\n",
            "nuevo valor de x: 52\n",
            "52\n",
            "nuevo valor de x: 53\n",
            "53\n",
            "nuevo valor de x: 54\n",
            "54\n",
            "nuevo valor de x: 55\n",
            "55\n",
            "nuevo valor de x: 56\n",
            "56\n",
            "nuevo valor de x: 57\n",
            "57\n",
            "nuevo valor de x: 58\n",
            "58\n",
            "nuevo valor de x: 59\n",
            "59\n",
            "nuevo valor de x: 60\n",
            "60\n",
            "nuevo valor de x: 61\n",
            "61\n",
            "nuevo valor de x: 62\n",
            "62\n",
            "nuevo valor de x: 63\n",
            "63\n",
            "nuevo valor de x: 64\n",
            "64\n",
            "nuevo valor de x: 65\n",
            "65\n",
            "nuevo valor de x: 66\n",
            "66\n",
            "nuevo valor de x: 67\n",
            "67\n",
            "nuevo valor de x: 68\n",
            "68\n",
            "nuevo valor de x: 69\n",
            "69\n",
            "nuevo valor de x: 70\n",
            "70\n",
            "nuevo valor de x: 71\n",
            "71\n",
            "nuevo valor de x: 72\n",
            "72\n",
            "nuevo valor de x: 73\n",
            "73\n",
            "nuevo valor de x: 74\n",
            "74\n",
            "nuevo valor de x: 75\n",
            "75\n",
            "nuevo valor de x: 76\n",
            "76\n",
            "nuevo valor de x: 77\n",
            "77\n",
            "nuevo valor de x: 78\n",
            "78\n",
            "nuevo valor de x: 79\n",
            "79\n",
            "nuevo valor de x: 80\n",
            "80\n",
            "nuevo valor de x: 81\n",
            "81\n",
            "nuevo valor de x: 82\n",
            "82\n",
            "nuevo valor de x: 83\n",
            "83\n",
            "nuevo valor de x: 84\n",
            "84\n",
            "nuevo valor de x: 85\n",
            "85\n",
            "nuevo valor de x: 86\n",
            "86\n",
            "nuevo valor de x: 87\n",
            "87\n",
            "nuevo valor de x: 88\n",
            "88\n",
            "nuevo valor de x: 89\n",
            "89\n",
            "nuevo valor de x: 90\n",
            "90\n",
            "nuevo valor de x: 91\n",
            "91\n",
            "nuevo valor de x: 92\n",
            "92\n",
            "nuevo valor de x: 93\n",
            "93\n",
            "nuevo valor de x: 94\n",
            "94\n",
            "nuevo valor de x: 95\n",
            "95\n",
            "nuevo valor de x: 96\n",
            "96\n",
            "nuevo valor de x: 97\n",
            "97\n",
            "nuevo valor de x: 98\n",
            "98\n",
            "nuevo valor de x: 99\n",
            "99\n",
            "Error la cadena excede el valor: 3 100\n"
          ],
          "name": "stdout"
        }
      ]
    },
    {
      "cell_type": "markdown",
      "metadata": {
        "id": "G4UA7aOj3gZR"
      },
      "source": [
        "**FUNCIONES**"
      ]
    },
    {
      "cell_type": "code",
      "metadata": {
        "colab": {
          "base_uri": "https://localhost:8080/"
        },
        "id": "wE4pmoxc2yqU",
        "outputId": "0ddaadf9-ad13-4b1a-fbb0-5b36cb5f1ba0"
      },
      "source": [
        "def obtener_nombre_completo():\n",
        "  return\"juan Miguel salinas Ponce\"\n",
        "\n",
        "nombre_completo=obtener_nombre_completo()\n",
        "print(nombre_completo)\n"
      ],
      "execution_count": 5,
      "outputs": [
        {
          "output_type": "stream",
          "text": [
            "juan Miguel salinas Ponce\n"
          ],
          "name": "stdout"
        }
      ]
    },
    {
      "cell_type": "code",
      "metadata": {
        "colab": {
          "base_uri": "https://localhost:8080/"
        },
        "id": "TmaXX0__DRWS",
        "outputId": "ffb490e7-a580-4374-9936-52ecd1b1e87d"
      },
      "source": [
        "def obtener_nombre_completo_con_parametros(nombres,apellidos):\n",
        "  return \"sus nombres son nombres son:\"+\" \"+nombres +\" \"+ apellidos \n",
        "\n",
        "nombres=\"Rossmery Aurora\"\n",
        "apellidos=\"Torres\"\n",
        "\n",
        "nombre_completo=obtener_nombre_completo_con_parametros(nombres,apellidos)\n",
        "print(nombre_completo)\n",
        "\n"
      ],
      "execution_count": 9,
      "outputs": [
        {
          "output_type": "stream",
          "text": [
            "sus nombres son nombres son: Rossmery Aurora Torres\n"
          ],
          "name": "stdout"
        }
      ]
    },
    {
      "cell_type": "code",
      "metadata": {
        "colab": {
          "base_uri": "https://localhost:8080/"
        },
        "id": "4ymg4hnKa4Bl",
        "outputId": "3578b24a-05a5-41de-ca15-3c5305443927"
      },
      "source": [
        "def formulario_incripcion(nombre_completo,pais= 'Peru'):\n",
        "  return  {\n",
        "      \"nombre_completo\":nombre_completo,\n",
        "      \"pais\":pais\n",
        "  }\n",
        "print(formulario_incripcion(nombre_completo,'Ecuador'))\n"
      ],
      "execution_count": 17,
      "outputs": [
        {
          "output_type": "stream",
          "text": [
            "{'nombre_completo': 'sus nombres son nombres son: Rossmery Aurora Torres', 'pais': 'Ecuador'}\n"
          ],
          "name": "stdout"
        }
      ]
    },
    {
      "cell_type": "code",
      "metadata": {
        "colab": {
          "base_uri": "https://localhost:8080/"
        },
        "id": "EnYDk7Ejg7zc",
        "outputId": "66f8eabd-aeb0-4ca1-c953-3fe333c8ede6"
      },
      "source": [
        "def resta(a=None,b=None):   #None es ningun valor \n",
        "  if a==None or b==None:\n",
        "    raise Exception (\"Error, no puedo restar sin las 2 variables requeridas\")\n",
        "  return a-b\n",
        "\n",
        "def suma(a=None,b=None):\n",
        "  if a==None or b==None:\n",
        "    raise Exception (\"Error, no puedo restar sin las 2 variables requeridas\")\n",
        "  return a+b\n",
        "\n",
        "def multiplicacion(a=None,b=None):\n",
        "  if a==None or b==None:\n",
        "    raise Exception (\"Error, no puedo restar sin las 2 variables requeridas\")\n",
        "  return a+b\n",
        "\n",
        "def operaciones(numero1,numero2):\n",
        "  operacion_suma=suma(numero1,numero2)\n",
        "  operacion_resta=resta(numero1,numero2)\n",
        "  operacion_multiplicacion=multiplicacion(numero1,numero2)\n",
        "  return operacion_suma,operacion_resta,operacion_multiplicacion\n",
        "\n",
        "numero=5\n",
        "numero2=10\n",
        "\n",
        "resultado_operaciones=operaciones(numero,numero2)\n",
        "print(\"La suma de\",numero,\"y\",numero2,\" es:\", resultado_operaciones[0])\n",
        "print(\"La resta de\",numero,\"y\",numero2,\" es:\", resultado_operaciones[1])\n",
        "print(\"La multiplicacion de\",numero,\"y\",numero2,\" es:\", resultado_operaciones[2])\n",
        "\n",
        " "
      ],
      "execution_count": 30,
      "outputs": [
        {
          "output_type": "stream",
          "text": [
            "La suma de 5 y 10  es: 15\n",
            "La resta de 5 y 10  es: -5\n",
            "La multiplicacion de 5 y 10  es: 15\n"
          ],
          "name": "stdout"
        }
      ]
    },
    {
      "cell_type": "markdown",
      "metadata": {
        "id": "RSWBxWo1nL8z"
      },
      "source": [
        "**TAREA **"
      ]
    },
    {
      "cell_type": "code",
      "metadata": {
        "colab": {
          "base_uri": "https://localhost:8080/"
        },
        "id": "TI69zNIja4F9",
        "outputId": "bade2979-c51c-456f-defb-0d2bff4d1397"
      },
      "source": [
        "# Funcion de division\n",
        "def division(valorx ,valory):\n",
        "  return(valorx/valory)\n",
        "\n",
        "valorx = 10\n",
        "valory = 2\n",
        "\n",
        "resultado_division=division(valorx,valory)\n",
        "print(resultado_division)\n"
      ],
      "execution_count": 33,
      "outputs": [
        {
          "output_type": "stream",
          "text": [
            "5.0\n"
          ],
          "name": "stdout"
        }
      ]
    },
    {
      "cell_type": "code",
      "metadata": {
        "colab": {
          "base_uri": "https://localhost:8080/"
        },
        "id": "R4r0nVfrCwwh",
        "outputId": "1411f25d-90d7-4b5e-aa23-8a3d61b47826"
      },
      "source": [
        "# Funcion pontencial\n",
        "def potencial(primervalor,segundovalor):\n",
        "  return(primervalor**segundovalor)   #** se le concidera elevar a ()\n",
        "x=5\n",
        "y=3\n",
        "resultado_potencial=potencial(x,y)\n",
        "print(resultado_potencial)"
      ],
      "execution_count": 53,
      "outputs": [
        {
          "output_type": "stream",
          "text": [
            "125\n"
          ],
          "name": "stdout"
        }
      ]
    },
    {
      "cell_type": "code",
      "metadata": {
        "colab": {
          "base_uri": "https://localhost:8080/"
        },
        "id": "PIZ0MGnlGP3Y",
        "outputId": "b6dafb86-81d6-4a08-b976-403de1914c55"
      },
      "source": [
        "#Funcion raiz \n",
        "def raiz(primervalor,segundovalor):\n",
        "  return(primervalor**(1/segundovalor))\n",
        "x=16\n",
        "y=2\n",
        "resultado_raiz=raiz(x,y)\n",
        "print(resultado_raiz)"
      ],
      "execution_count": 56,
      "outputs": [
        {
          "output_type": "stream",
          "text": [
            "4.0\n"
          ],
          "name": "stdout"
        }
      ]
    }
  ]
}