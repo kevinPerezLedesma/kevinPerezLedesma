{
  "nbformat": 4,
  "nbformat_minor": 0,
  "metadata": {
    "colab": {
      "name": "Kevin_Perez_Ledesma.ipynb",
      "provenance": [],
      "collapsed_sections": [],
      "authorship_tag": "ABX9TyOWXC3enFsd0asuBo1n4VEY",
      "include_colab_link": true
    },
    "kernelspec": {
      "name": "python3",
      "display_name": "Python 3"
    },
    "language_info": {
      "name": "python"
    }
  },
  "cells": [
    {
      "cell_type": "markdown",
      "metadata": {
        "id": "view-in-github",
        "colab_type": "text"
      },
      "source": [
        "<a href=\"https://colab.research.google.com/github/kevinPerezLedesma/kevinPerezLedesma/blob/main/Kevin_Perez_Ledesma.ipynb\" target=\"_parent\"><img src=\"https://colab.research.google.com/assets/colab-badge.svg\" alt=\"Open In Colab\"/></a>"
      ]
    },
    {
      "cell_type": "code",
      "metadata": {
        "colab": {
          "base_uri": "https://localhost:8080/"
        },
        "id": "CB_tuSjw9Os6",
        "outputId": "4fedc47c-1a92-4bcb-a5f0-12f9e1df757c"
      },
      "source": [
        "x=8\n",
        "nombre=\"juan\"\n",
        "x= nombre\n",
        "y=x\n",
        "\n",
        "print(\"El valor de y es:\",y)\n",
        "#str demuestra el tipo cadena#\n",
        "#int demuestra que es un numero entero#"
      ],
      "execution_count": null,
      "outputs": [
        {
          "output_type": "stream",
          "text": [
            "El valor de y es: juan\n"
          ],
          "name": "stdout"
        }
      ]
    },
    {
      "cell_type": "code",
      "metadata": {
        "colab": {
          "base_uri": "https://localhost:8080/"
        },
        "id": "mKRwfuqIBFSr",
        "outputId": "7f1e9b83-2071-4f1e-ac02-84a30ed1eea1"
      },
      "source": [
        "#Tipos de datos#\n",
        "#Booleana son dos valores posibles: True o False se#\n",
        "#se usa la Funcion type#\n",
        "\n",
        "variable_verdadera= True\n",
        "variable_falsa= False\n",
        "\n",
        "type(variable_verdadera= True)"
      ],
      "execution_count": null,
      "outputs": [
        {
          "output_type": "execute_result",
          "data": {
            "text/plain": [
              "str"
            ]
          },
          "metadata": {
            "tags": []
          },
          "execution_count": 19
        }
      ]
    },
    {
      "cell_type": "code",
      "metadata": {
        "colab": {
          "base_uri": "https://localhost:8080/"
        },
        "id": "mzS6pWb7D5Ak",
        "outputId": "65b9e04e-a6eb-4443-d56b-ede9f03d38c5"
      },
      "source": [
        "bool(25)\n",
        "type (25)"
      ],
      "execution_count": null,
      "outputs": [
        {
          "output_type": "execute_result",
          "data": {
            "text/plain": [
              "int"
            ]
          },
          "metadata": {
            "tags": []
          },
          "execution_count": 1
        }
      ]
    },
    {
      "cell_type": "code",
      "metadata": {
        "colab": {
          "base_uri": "https://localhost:8080/"
        },
        "id": "-Ogkix3FE0qy",
        "outputId": "6efb1b40-c5c5-4524-92ba-e4ca1c353144"
      },
      "source": [
        "#Numero binario#\n",
        "\n",
        "binario=0b1111\n",
        "binario"
      ],
      "execution_count": null,
      "outputs": [
        {
          "output_type": "execute_result",
          "data": {
            "text/plain": [
              "15"
            ]
          },
          "metadata": {
            "tags": []
          },
          "execution_count": 21
        }
      ]
    },
    {
      "cell_type": "code",
      "metadata": {
        "colab": {
          "base_uri": "https://localhost:8080/"
        },
        "id": "F1B5Y3ZMFA4v",
        "outputId": "b5b253ad-7ade-42d8-a9ea-a9e932dd9450"
      },
      "source": [
        "#Cadena de texto#\n",
        "cadena=\"esto es una cadena de texto\"\n",
        "type(cadena)"
      ],
      "execution_count": null,
      "outputs": [
        {
          "output_type": "execute_result",
          "data": {
            "text/plain": [
              "str"
            ]
          },
          "metadata": {
            "tags": []
          },
          "execution_count": 23
        }
      ]
    },
    {
      "cell_type": "code",
      "metadata": {
        "id": "29e925raFbAg"
      },
      "source": [
        "#Byte son inmutables es decir no se puede reemplazar\"\n",
        "cadena=b\"esto es una cadena de texto\""
      ],
      "execution_count": null,
      "outputs": []
    },
    {
      "cell_type": "code",
      "metadata": {
        "colab": {
          "base_uri": "https://localhost:8080/",
          "height": 35
        },
        "id": "F6sJi7QPF99o",
        "outputId": "0afb71ad-3a62-467c-b4cc-0e259b12c8bb"
      },
      "source": [
        "cadena= \"8\"\n",
        "cadena =cadena+\"1\"\n",
        "type(cadena)\n",
        "cadena\n",
        "#El + es para concatenar pero depende el tipo de datos#"
      ],
      "execution_count": null,
      "outputs": [
        {
          "output_type": "execute_result",
          "data": {
            "application/vnd.google.colaboratory.intrinsic+json": {
              "type": "string"
            },
            "text/plain": [
              "'81'"
            ]
          },
          "metadata": {
            "tags": []
          },
          "execution_count": 18
        }
      ]
    },
    {
      "cell_type": "code",
      "metadata": {
        "colab": {
          "base_uri": "https://localhost:8080/"
        },
        "id": "y9JgUroLkm9S",
        "outputId": "847761d3-f38f-435f-ef68-975935151485"
      },
      "source": [
        "#Listas#\n",
        "#Crear una lista#\n",
        "Datos_personales=[\"Kevin Perez Ledesma\",24,True,\"Lima\",\"San Juan de Lurigancho\"]\n",
        "Datos_personalesc"
      ],
      "execution_count": null,
      "outputs": [
        {
          "output_type": "execute_result",
          "data": {
            "text/plain": [
              "['Kevin Perez Ledesma', 24, True, 'Lima', 'San Juan de Lurigancho']"
            ]
          },
          "metadata": {
            "tags": []
          },
          "execution_count": 20
        }
      ]
    },
    {
      "cell_type": "code",
      "metadata": {
        "colab": {
          "base_uri": "https://localhost:8080/",
          "height": 35
        },
        "id": "664gcXWfnI-E",
        "outputId": "100fca38-02a3-4835-dd0e-d2e22528ffd5"
      },
      "source": [
        "#Posiciones para seleccionar datos inicia con 0\n",
        "nombre_apellido= Datos_personales[0]\n",
        "nombre_apellido\n",
        "  # \"INDICE\" se refiere a la posicion "
      ],
      "execution_count": null,
      "outputs": [
        {
          "output_type": "execute_result",
          "data": {
            "application/vnd.google.colaboratory.intrinsic+json": {
              "type": "string"
            },
            "text/plain": [
              "'Kevin Perez Ledesma'"
            ]
          },
          "metadata": {
            "tags": []
          },
          "execution_count": 8
        }
      ]
    },
    {
      "cell_type": "code",
      "metadata": {
        "colab": {
          "base_uri": "https://localhost:8080/",
          "height": 35
        },
        "id": "VxqYP_LLnnyu",
        "outputId": "4cbe90e9-9bad-46e6-a302-32084efa93f1"
      },
      "source": [
        "#Nombre del departamento#\n",
        "departamento=Datos_personales[3]\n",
        "departamento"
      ],
      "execution_count": null,
      "outputs": [
        {
          "output_type": "execute_result",
          "data": {
            "application/vnd.google.colaboratory.intrinsic+json": {
              "type": "string"
            },
            "text/plain": [
              "'Lima'"
            ]
          },
          "metadata": {
            "tags": []
          },
          "execution_count": 9
        }
      ]
    },
    {
      "cell_type": "code",
      "metadata": {
        "colab": {
          "base_uri": "https://localhost:8080/"
        },
        "id": "gSyIEuj4of_r",
        "outputId": "948ac95e-ded5-48b6-e530-cc8877c9fcd5"
      },
      "source": [
        "#Donde antes del index ejemplo [:2] selecciona hasta la posicion 2\n",
        "\n",
        "Datos_personales2= Datos_personales[:2]\n",
        "Datos_personales2"
      ],
      "execution_count": null,
      "outputs": [
        {
          "output_type": "execute_result",
          "data": {
            "text/plain": [
              "['Kevin Perez Ledesma', 24]"
            ]
          },
          "metadata": {
            "tags": []
          },
          "execution_count": 11
        }
      ]
    },
    {
      "cell_type": "code",
      "metadata": {
        "colab": {
          "base_uri": "https://localhost:8080/"
        },
        "id": "jNh5x7RMpvQ9",
        "outputId": "d09810dc-457c-4764-fd9e-8d5b5e20fbc2"
      },
      "source": [
        "#VER LOS ULTIMOS REGISTROS O DATOS Ejmplo -1 es el ultimo dato\n",
        "Datos_personales2[-1]"
      ],
      "execution_count": null,
      "outputs": [
        {
          "output_type": "execute_result",
          "data": {
            "text/plain": [
              "24"
            ]
          },
          "metadata": {
            "tags": []
          },
          "execution_count": 12
        }
      ]
    },
    {
      "cell_type": "code",
      "metadata": {
        "colab": {
          "base_uri": "https://localhost:8080/"
        },
        "id": "ovyGgUy2qxiu",
        "outputId": "1d031762-b33c-403b-efd3-afba7dd4a0b7"
      },
      "source": [
        "#Sustraer datos [1:3] significa que desde la posicion 1 y antes del a posicion 3\n",
        "Datos_personales[1:3]"
      ],
      "execution_count": null,
      "outputs": [
        {
          "output_type": "execute_result",
          "data": {
            "text/plain": [
              "[24]"
            ]
          },
          "metadata": {
            "tags": []
          },
          "execution_count": 13
        }
      ]
    },
    {
      "cell_type": "code",
      "metadata": {
        "colab": {
          "base_uri": "https://localhost:8080/"
        },
        "id": "yOn9WKIMrQiW",
        "outputId": "0b312afb-d19c-41e7-cfe1-df0daad9ded8"
      },
      "source": [
        "#Actualizacion de datos\n",
        "# La lista de puede modificar y la Tupla no te permite modificar los valores\n",
        "Datos_personales[0]=\"Kevin Perez Ledezma\"\n",
        "Datos_personales"
      ],
      "execution_count": null,
      "outputs": [
        {
          "output_type": "execute_result",
          "data": {
            "text/plain": [
              "['Kevin Perez Ledezma', 24, True, 'Lima', 'San Juan de Lurigancho']"
            ]
          },
          "metadata": {
            "tags": []
          },
          "execution_count": 21
        }
      ]
    },
    {
      "cell_type": "code",
      "metadata": {
        "colab": {
          "base_uri": "https://localhost:8080/"
        },
        "id": "kY8J4gchr_Ph",
        "outputId": "eeef4037-9816-4fd2-996c-5094d5303c2a"
      },
      "source": [
        "#TUPLA#\n",
        "Datos_personales_tupla=\"Kevin Perez Ledesma\",28,True,\"Lima\"\n",
        "type(Datos_personales_tupla)\n",
        "\n",
        "nombre_tupla=Datos_personales_tupla[0]\n",
        "nombre_personales_tupla2=Datos_personales_tupla[1:3]\n",
        "nombre_personales_tupla2"
      ],
      "execution_count": null,
      "outputs": [
        {
          "output_type": "execute_result",
          "data": {
            "text/plain": [
              "(28, True)"
            ]
          },
          "metadata": {
            "tags": []
          },
          "execution_count": 27
        }
      ]
    },
    {
      "cell_type": "markdown",
      "metadata": {
        "id": "wLFwqFlbxTQ4"
      },
      "source": [
        "DICCIONARIO"
      ]
    },
    {
      "cell_type": "code",
      "metadata": {
        "colab": {
          "base_uri": "https://localhost:8080/"
        },
        "id": "z3a2vcTVxPlk",
        "outputId": "85168500-1109-4088-88bd-7f0bef67837a"
      },
      "source": [
        "#DICCIONARIO#\n",
        "Datos_personales_diccionario= {\"nombre\": \"Kevin Perez\",\n",
        "    \"edad\":24,\n",
        "      \"es_estudiante\":True,\n",
        "      \"departamento\":\"Cusco\"}\n",
        "Datos_personales_diccionario\n",
        "type(Datos_personales_diccionario)\n"
      ],
      "execution_count": null,
      "outputs": [
        {
          "output_type": "execute_result",
          "data": {
            "text/plain": [
              "dict"
            ]
          },
          "metadata": {
            "tags": []
          },
          "execution_count": 32
        }
      ]
    },
    {
      "cell_type": "markdown",
      "metadata": {
        "id": "MeYQLKzdznlv"
      },
      "source": [
        "DATA FRAME"
      ]
    },
    {
      "cell_type": "code",
      "metadata": {
        "colab": {
          "base_uri": "https://localhost:8080/"
        },
        "id": "fUILGTOpxnoN",
        "outputId": "750bf099-3706-48f4-c9ed-3eb55dd71887"
      },
      "source": [
        "#Importa pandas as pd\n",
        "import pandas as pd\n",
        "#Creando listas \n",
        "nombres=[\"Rossmery\", \"Sussan\", \"kevin\", \"Nicolas\"]\n",
        "edad=[22,21,23,26]\n",
        "pais=[\"Ecuador\", \"Perú\", \"Brasil\", \"Argentina\"]\n",
        "educacion=[\"Bachiller\", \"Licenciado\", \"Bachiller\", \"PhD\"]\n",
        "\n",
        "#Crear un diccionario incluyendo a las listas\n",
        "data={'nombres':nombres,'edad':edad,'pais':pais,'educacion':educacion}\n",
        "data"
      ],
      "execution_count": null,
      "outputs": [
        {
          "output_type": "execute_result",
          "data": {
            "text/plain": [
              "{'edad': [22, 21, 23, 26],\n",
              " 'educacion': ['Bachiller', 'Licenciado', 'Bachiller', 'PhD'],\n",
              " 'nombres': ['Rossmery', 'Sussan', 'kevin', 'Nicolas'],\n",
              " 'pais': ['Ecuador', 'Perú', 'Brasil', 'Argentina']}"
            ]
          },
          "metadata": {
            "tags": []
          },
          "execution_count": 41
        }
      ]
    },
    {
      "cell_type": "code",
      "metadata": {
        "colab": {
          "base_uri": "https://localhost:8080/",
          "height": 165
        },
        "id": "qh-g7Hgj19cf",
        "outputId": "10b6a58f-2bfc-4353-81cd-0e6806b52f05"
      },
      "source": [
        "df_estudiantes=pd.DataFrame(data)\n",
        "print(df_estudiantes)\n",
        "df_estudiantes[df_estudiantes['edad']==22]"
      ],
      "execution_count": null,
      "outputs": [
        {
          "output_type": "stream",
          "text": [
            "    nombres  edad       pais   educacion\n",
            "0  Rossmery    22    Ecuador   Bachiller\n",
            "1    Sussan    21       Perú  Licenciado\n",
            "2     kevin    23     Brasil   Bachiller\n",
            "3   Nicolas    26  Argentina         PhD\n"
          ],
          "name": "stdout"
        },
        {
          "output_type": "execute_result",
          "data": {
            "text/html": [
              "<div>\n",
              "<style scoped>\n",
              "    .dataframe tbody tr th:only-of-type {\n",
              "        vertical-align: middle;\n",
              "    }\n",
              "\n",
              "    .dataframe tbody tr th {\n",
              "        vertical-align: top;\n",
              "    }\n",
              "\n",
              "    .dataframe thead th {\n",
              "        text-align: right;\n",
              "    }\n",
              "</style>\n",
              "<table border=\"1\" class=\"dataframe\">\n",
              "  <thead>\n",
              "    <tr style=\"text-align: right;\">\n",
              "      <th></th>\n",
              "      <th>nombres</th>\n",
              "      <th>edad</th>\n",
              "      <th>pais</th>\n",
              "      <th>educacion</th>\n",
              "    </tr>\n",
              "  </thead>\n",
              "  <tbody>\n",
              "    <tr>\n",
              "      <th>0</th>\n",
              "      <td>Rossmery</td>\n",
              "      <td>22</td>\n",
              "      <td>Ecuador</td>\n",
              "      <td>Bachiller</td>\n",
              "    </tr>\n",
              "  </tbody>\n",
              "</table>\n",
              "</div>"
            ],
            "text/plain": [
              "    nombres  edad     pais  educacion\n",
              "0  Rossmery    22  Ecuador  Bachiller"
            ]
          },
          "metadata": {
            "tags": []
          },
          "execution_count": 40
        }
      ]
    }
  ]
}