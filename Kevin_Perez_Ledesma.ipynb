{
  "nbformat": 4,
  "nbformat_minor": 0,
  "metadata": {
    "colab": {
      "name": "Kevin_Perez_Ledesma.ipynb",
      "provenance": [],
      "collapsed_sections": [],
      "authorship_tag": "ABX9TyMv9QnCzq8bpLz45u69AobB",
      "include_colab_link": true
    },
    "kernelspec": {
      "name": "python3",
      "display_name": "Python 3"
    },
    "language_info": {
      "name": "python"
    }
  },
  "cells": [
    {
      "cell_type": "markdown",
      "metadata": {
        "id": "view-in-github",
        "colab_type": "text"
      },
      "source": [
        "<a href=\"https://colab.research.google.com/github/kevinPerezLedesma/kevinPerezLedesma/blob/main/Kevin_Perez_Ledesma.ipynb\" target=\"_parent\"><img src=\"https://colab.research.google.com/assets/colab-badge.svg\" alt=\"Open In Colab\"/></a>"
      ]
    },
    {
      "cell_type": "code",
      "metadata": {
        "colab": {
          "base_uri": "https://localhost:8080/"
        },
        "id": "CB_tuSjw9Os6",
        "outputId": "4fedc47c-1a92-4bcb-a5f0-12f9e1df757c"
      },
      "source": [
        "x=8\n",
        "nombre=\"juan\"\n",
        "x= nombre\n",
        "y=x\n",
        "\n",
        "print(\"El valor de y es:\",y)\n",
        "#str demuestra el tipo cadena#\n",
        "#int demuestra que es un numero entero#"
      ],
      "execution_count": null,
      "outputs": [
        {
          "output_type": "stream",
          "text": [
            "El valor de y es: juan\n"
          ],
          "name": "stdout"
        }
      ]
    },
    {
      "cell_type": "code",
      "metadata": {
        "colab": {
          "base_uri": "https://localhost:8080/"
        },
        "id": "mKRwfuqIBFSr",
        "outputId": "7f1e9b83-2071-4f1e-ac02-84a30ed1eea1"
      },
      "source": [
        "#Tipos de datos#\n",
        "#Booleana son dos valores posibles: True o False se#\n",
        "#se usa la Funcion type#\n",
        "\n",
        "variable_verdadera= True\n",
        "variable_falsa= False\n",
        "\n",
        "type(variable_verdadera= True)"
      ],
      "execution_count": null,
      "outputs": [
        {
          "output_type": "execute_result",
          "data": {
            "text/plain": [
              "str"
            ]
          },
          "metadata": {
            "tags": []
          },
          "execution_count": 19
        }
      ]
    },
    {
      "cell_type": "code",
      "metadata": {
        "colab": {
          "base_uri": "https://localhost:8080/"
        },
        "id": "mzS6pWb7D5Ak",
        "outputId": "1889d4f9-d6f4-4760-ded8-e7055b0a07e1"
      },
      "source": [
        "bool(25)"
      ],
      "execution_count": null,
      "outputs": [
        {
          "output_type": "execute_result",
          "data": {
            "text/plain": [
              "True"
            ]
          },
          "metadata": {
            "tags": []
          },
          "execution_count": 20
        }
      ]
    },
    {
      "cell_type": "code",
      "metadata": {
        "colab": {
          "base_uri": "https://localhost:8080/"
        },
        "id": "-Ogkix3FE0qy",
        "outputId": "6efb1b40-c5c5-4524-92ba-e4ca1c353144"
      },
      "source": [
        "#Numero binario#\n",
        "\n",
        "binario=0b1111\n",
        "binario"
      ],
      "execution_count": null,
      "outputs": [
        {
          "output_type": "execute_result",
          "data": {
            "text/plain": [
              "15"
            ]
          },
          "metadata": {
            "tags": []
          },
          "execution_count": 21
        }
      ]
    },
    {
      "cell_type": "code",
      "metadata": {
        "colab": {
          "base_uri": "https://localhost:8080/"
        },
        "id": "F1B5Y3ZMFA4v",
        "outputId": "b5b253ad-7ade-42d8-a9ea-a9e932dd9450"
      },
      "source": [
        "#Cadena de texto#\n",
        "cadena=\"esto es una cadena de texto\"\n",
        "type(cadena)"
      ],
      "execution_count": null,
      "outputs": [
        {
          "output_type": "execute_result",
          "data": {
            "text/plain": [
              "str"
            ]
          },
          "metadata": {
            "tags": []
          },
          "execution_count": 23
        }
      ]
    },
    {
      "cell_type": "code",
      "metadata": {
        "id": "29e925raFbAg"
      },
      "source": [
        "#Byte son inmutables es decir no se puede reemplazar\"\n",
        "cadena=b\"esto es una cadena de texto\""
      ],
      "execution_count": null,
      "outputs": []
    },
    {
      "cell_type": "code",
      "metadata": {
        "colab": {
          "base_uri": "https://localhost:8080/",
          "height": 35
        },
        "id": "F6sJi7QPF99o",
        "outputId": "07eb1c69-2be4-4de7-e1b0-d634b54b51c4"
      },
      "source": [
        "cadena= \"8\"\n",
        "cadena =cadena+\"1\"\n",
        "type(cadena)\n",
        "cadena\n",
        "#El + es para concatenar pero depende el tipo de datos#"
      ],
      "execution_count": null,
      "outputs": [
        {
          "output_type": "execute_result",
          "data": {
            "application/vnd.google.colaboratory.intrinsic+json": {
              "type": "string"
            },
            "text/plain": [
              "'81'"
            ]
          },
          "metadata": {
            "tags": []
          },
          "execution_count": 30
        }
      ]
    }
  ]
}